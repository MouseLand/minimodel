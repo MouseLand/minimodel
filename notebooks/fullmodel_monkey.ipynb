{
 "cells": [
  {
   "cell_type": "code",
   "execution_count": null,
   "metadata": {},
   "outputs": [],
   "source": [
    "import os\n",
    "import torch\n",
    "import numpy as np\n",
    "device = torch.device(\"cuda\" if torch.cuda.is_available() else \"cpu\")\n",
    "\n",
    "monkey_data_path = '../data'\n",
    "weight_path = './checkpoints/fullmodel'"
   ]
  },
  {
   "cell_type": "code",
   "execution_count": null,
   "metadata": {},
   "outputs": [],
   "source": [
    "# load data\n",
    "dat = np.load(os.path.join(monkey_data_path, 'monkeyv1_cadena_2019.npz'))\n",
    "images = dat['images']\n",
    "responses = dat['responses']\n",
    "real_responses = dat['real_responses']\n",
    "test_images = dat['test_images']\n",
    "test_responses = dat['test_responses']\n",
    "test_real_responses = dat['test_real_responses']\n",
    "train_idx = dat['train_idx']\n",
    "val_idx = dat['val_idx']\n",
    "repetitions = dat['repetitions']\n",
    "monkey_id = dat['subject_id']\n",
    "image_ids = dat['image_ids']\n",
    "\n",
    "# normalize responses\n",
    "responses_nan = np.where(real_responses, responses, np.nan)\n",
    "resp_std = np.nanstd(responses_nan, axis=0) \n",
    "responses = responses / resp_std\n",
    "test_responses = test_responses / resp_std\n",
    "\n",
    "train_images = images[train_idx]\n",
    "val_images = images[val_idx]\n",
    "train_responses = responses[train_idx]\n",
    "val_responses = responses[val_idx]\n",
    "train_real_responses = real_responses[train_idx]\n",
    "val_real_responses = real_responses[val_idx]\n",
    "\n",
    "print('train:', train_images.shape, train_responses.shape, train_real_responses.shape)\n",
    "print('val:', val_images.shape, val_responses.shape, val_real_responses.shape)\n",
    "print('test:', test_images.shape, test_responses.shape, test_real_responses.shape)\n",
    "\n",
    "print('resp:', responses.min(), responses.max())\n",
    "print('test resp:', test_responses.min(), test_responses.max())"
   ]
  },
  {
   "cell_type": "code",
   "execution_count": null,
   "metadata": {},
   "outputs": [],
   "source": [
    "test_responses = np.where(test_real_responses, test_responses, np.nan)\n",
    "\n",
    "NN = train_responses.shape[1]\n",
    "Lx, Ly = train_images.shape[2], train_images.shape[3]"
   ]
  },
  {
   "cell_type": "code",
   "execution_count": null,
   "metadata": {},
   "outputs": [],
   "source": [
    "train_images = torch.from_numpy(train_images)\n",
    "val_images = torch.from_numpy(val_images)\n",
    "train_responses = torch.from_numpy(train_responses)\n",
    "val_responses = torch.from_numpy(val_responses)\n",
    "train_real_responses = torch.from_numpy(train_real_responses)\n",
    "val_real_responses = torch.from_numpy(val_real_responses)"
   ]
  },
  {
   "cell_type": "code",
   "execution_count": null,
   "metadata": {},
   "outputs": [],
   "source": [
    "# build model\n",
    "from minimodel import model_builder\n",
    "seed = 1\n",
    "nlayers = 2\n",
    "nconv1 = 16\n",
    "nconv2 = 320\n",
    "model, in_channels = model_builder.build_model(NN=166, n_layers=nlayers, n_conv=nconv1, n_conv_mid=nconv2, input_Lx=Lx, input_Ly=Ly)\n",
    "model_name = model_builder.create_model_name('monkeyV1', '2019', n_layers=nlayers, in_channels=in_channels)\n",
    "model_path = os.path.join(weight_path, model_name)\n",
    "print('model path: ', model_path)\n",
    "model = model.to(device)"
   ]
  },
  {
   "cell_type": "code",
   "execution_count": null,
   "metadata": {},
   "outputs": [],
   "source": [
    "if not os.path.exists(model_path):\n",
    "    from minimodel import model_trainer\n",
    "    best_state_dict = model_trainer.monkey_train(model, train_responses, train_real_responses, val_responses, val_real_responses, train_images, val_images, device=device)\n",
    "    torch.save(best_state_dict, model_path)\n",
    "    print('model saved', model_path)"
   ]
  },
  {
   "cell_type": "code",
   "execution_count": null,
   "metadata": {},
   "outputs": [],
   "source": [
    "model.load_state_dict(torch.load(model_path))\n",
    "print('loaded model', model_path)\n",
    "model = model.to(device)"
   ]
  },
  {
   "cell_type": "code",
   "execution_count": null,
   "metadata": {},
   "outputs": [],
   "source": [
    "from minimodel import model_trainer\n",
    "test_images = torch.from_numpy(test_images).to(device)\n",
    "spks_pred_test = model_trainer.test_epoch(model, test_images)\n",
    "print('predctions:', spks_pred_test.shape, spks_pred_test.min(), spks_pred_test.max())"
   ]
  },
  {
   "cell_type": "code",
   "execution_count": null,
   "metadata": {},
   "outputs": [],
   "source": [
    "from minimodel import metrics\n",
    "test_fev, test_feve = metrics.monkey_feve(test_responses, spks_pred_test, repetitions)\n",
    "print('FEVE (test): ', np.mean(test_feve))"
   ]
  },
  {
   "cell_type": "code",
   "execution_count": null,
   "metadata": {},
   "outputs": [],
   "source": [
    "num_reps = 4\n",
    "sz = val_responses.shape[0]\n",
    "val_responses = val_responses.reshape([num_reps, int(sz / num_reps), NN])\n",
    "val_images = val_images.reshape([num_reps, int(sz / num_reps), 1, 80, 80])[0]\n",
    "\n",
    "val_images = val_images.to(device)\n",
    "spks_pred_val = model_trainer.test_epoch(model, val_images)\n",
    "val_fev, val_feve = metrics.monkey_feve(val_responses, spks_pred_val, repetitions)\n",
    "print('FEVE (val):', np.mean(val_feve))"
   ]
  }
 ],
 "metadata": {
  "kernelspec": {
   "display_name": "torchenv",
   "language": "python",
   "name": "python3"
  },
  "language_info": {
   "codemirror_mode": {
    "name": "ipython",
    "version": 3
   },
   "file_extension": ".py",
   "mimetype": "text/x-python",
   "name": "python",
   "nbconvert_exporter": "python",
   "pygments_lexer": "ipython3",
   "version": "3.9.16"
  },
  "orig_nbformat": 4
 },
 "nbformat": 4,
 "nbformat_minor": 2
}
