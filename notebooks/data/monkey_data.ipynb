{
 "cells": [
  {
   "cell_type": "code",
   "execution_count": 2,
   "metadata": {},
   "outputs": [],
   "source": [
    "import numpy as np"
   ]
  },
  {
   "attachments": {},
   "cell_type": "markdown",
   "metadata": {},
   "source": [
    "# load monkey dataset (Cadena et al)"
   ]
  },
  {
   "cell_type": "code",
   "execution_count": 4,
   "metadata": {},
   "outputs": [
    {
     "name": "stdout",
     "output_type": "stream",
     "text": [
      "0 repetitions (166,)\n",
      "1 subject_id (166,)\n",
      "2 session_id (166,)\n",
      "3 image_ids (7250, 1)\n",
      "4 unit_id (166,)\n",
      "5 image_types (7250, 1)\n",
      "6 images (7250, 140, 140)\n",
      "7 responses (4, 7250, 166)\n",
      "8 image_numbers (7250, 1)\n",
      "9 is_realresponse (4, 7250, 166)\n",
      "10 types_train 5\n",
      "11 types_test 5\n"
     ]
    }
   ],
   "source": [
    "# add https://github.com/sacadena/Cadena2019PlosCB/tree/master/cnn_sys_ident to system path\n",
    "from cnn_sys_ident.data import Dataset, MonkeyDataset\n",
    "\n",
    "data_dict = Dataset.get_clean_data()\n",
    "\n",
    "for i, (k, v) in enumerate(data_dict.items()):\n",
    "    if i > 9:\n",
    "        print(i, k, len(v))\n",
    "    else:\n",
    "        print(i, k, v.shape)"
   ]
  },
  {
   "cell_type": "code",
   "execution_count": 5,
   "metadata": {},
   "outputs": [
    {
     "name": "stdout",
     "output_type": "stream",
     "text": [
      "112.38272 44.69932\n"
     ]
    }
   ],
   "source": [
    "data = MonkeyDataset(data_dict, seed=1000, train_frac=0.8 ,subsample=1, crop = 30)"
   ]
  },
  {
   "cell_type": "code",
   "execution_count": 6,
   "metadata": {},
   "outputs": [
    {
     "name": "stdout",
     "output_type": "stream",
     "text": [
      "test: (1450, 80, 80, 1) (4, 1450, 166) (4, 1450, 166)\n",
      "val: (4640, 80, 80, 1) (4640, 166) (4640, 166)\n"
     ]
    }
   ],
   "source": [
    "batch_size = 64\n",
    "images, responses, real_responses = data.test()\n",
    "print('test:', images.shape, responses.shape, real_responses.shape)\n",
    "images, responses, real_responses = data.val()\n",
    "print('val:', images.shape, responses.shape, real_responses.shape)"
   ]
  },
  {
   "cell_type": "code",
   "execution_count": 7,
   "metadata": {},
   "outputs": [
    {
     "name": "stdout",
     "output_type": "stream",
     "text": [
      "train: (18560, 80, 80, 1) (18560, 166) (18560, 166)\n",
      "minibatch: (64, 80, 80, 1) (64, 166) (64, 166)\n"
     ]
    }
   ],
   "source": [
    "images, responses, real_responses = data.train()\n",
    "print('train:', images.shape, responses.shape, real_responses.shape)\n",
    "imgs_batch, res_batch, rresp_batch = data.minibatch(batch_size)\n",
    "print('minibatch:', imgs_batch.shape, res_batch.shape, rresp_batch.shape)"
   ]
  },
  {
   "cell_type": "code",
   "execution_count": 8,
   "metadata": {},
   "outputs": [],
   "source": [
    "new_data_dict = {}\n",
    "new_data_dict['images'] = data.images.transpose(0, 3, 1, 2)\n",
    "new_data_dict['responses'] = data.responses\n",
    "new_data_dict['real_responses'] = data.real_resps\n",
    "new_data_dict['test_images'] = data.images_test.transpose(0, 3, 1, 2)\n",
    "new_data_dict['test_responses'] = data.responses_test\n",
    "new_data_dict['test_real_responses'] = data.real_resps_test\n",
    "new_data_dict['train_idx'] = data.train_idx \n",
    "new_data_dict['val_idx'] = data.val_idx\n",
    "new_data_dict['subject_id'] = data_dict['subject_id']\n",
    "new_data_dict['repetitions'] = data.repetitions\n",
    "new_data_dict['image_ids'] = data.image_ids"
   ]
  },
  {
   "cell_type": "code",
   "execution_count": null,
   "metadata": {},
   "outputs": [],
   "source": [
    "np.savez('monkeyv1_cadena_2019.npz', **new_data_dict)"
   ]
  },
  {
   "cell_type": "code",
   "execution_count": 20,
   "metadata": {},
   "outputs": [
    {
     "name": "stdout",
     "output_type": "stream",
     "text": [
      "train: (18560, 1, 80, 80) (18560, 166) (18560, 166)\n",
      "val: (4640, 1, 80, 80) (4640, 166) (4640, 166)\n",
      "test: (1450, 1, 80, 80) (4, 1450, 166) (4, 1450, 166)\n"
     ]
    }
   ],
   "source": [
    "# load data\n",
    "normalize = True\n",
    "data_dict = np.load('monkeyv1_cadena_2019.npz')\n",
    "images = data_dict['images']\n",
    "responses = data_dict['responses']\n",
    "real_responses = data_dict['real_responses']\n",
    "test_images = data_dict['test_images']\n",
    "test_responses = data_dict['test_responses']\n",
    "test_real_responses = data_dict['test_real_responses']\n",
    "train_idx = data_dict['train_idx']\n",
    "val_idx = data_dict['val_idx']\n",
    "print('train:', images[train_idx].shape, responses[train_idx].shape, real_responses[train_idx].shape)\n",
    "print('val:', images[val_idx].shape, responses[val_idx].shape, real_responses[val_idx].shape)\n",
    "print('test:', test_images.shape, test_responses.shape, test_real_responses.shape)"
   ]
  }
 ],
 "metadata": {
  "kernelspec": {
   "display_name": "torchenv",
   "language": "python",
   "name": "python3"
  },
  "language_info": {
   "codemirror_mode": {
    "name": "ipython",
    "version": 3
   },
   "file_extension": ".py",
   "mimetype": "text/x-python",
   "name": "python",
   "nbconvert_exporter": "python",
   "pygments_lexer": "ipython3",
   "version": "3.9.16"
  },
  "orig_nbformat": 4
 },
 "nbformat": 4,
 "nbformat_minor": 2
}
