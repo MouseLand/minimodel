{
 "cells": [
  {
   "cell_type": "code",
   "execution_count": null,
   "metadata": {},
   "outputs": [],
   "source": [
    "import os\n",
    "import torch\n",
    "import numpy as np\n",
    "from minimodel import data, metrics, model_builder, model_trainer\n",
    "\n",
    "device = torch.device('cuda')\n",
    "\n",
    "data_dict = {}\n",
    "\n",
    "data_path = '../../data'\n",
    "weight_path = '../checkpoints/fullmodel'"
   ]
  },
  {
   "cell_type": "code",
   "execution_count": null,
   "metadata": {},
   "outputs": [],
   "source": [
    "mouse_id = 0\n",
    "\n",
    "# load images\n",
    "img = data.load_images(data_path, mouse_id, file=os.path.join(data_path, data.img_file_name[mouse_id]))\n",
    "nimg, Ly, Lx = img.shape\n",
    "print('img: ', img.shape, img.min(), img.max(), img.dtype)\n",
    "\n",
    "# load neurons\n",
    "fname = '%s_nat60k_%s.npz'%(data.db[mouse_id]['mname'], data.db[mouse_id]['datexp'])\n",
    "spks, istim_train, istim_test, xpos, ypos, spks_rep_all = data.load_neurons(file_path = os.path.join(data_path, fname), mouse_id = mouse_id)\n",
    "n_stim, n_max_neurons = spks.shape\n",
    "\n",
    "# split train and validation set\n",
    "itrain, ival = data.split_train_val(istim_train, train_frac=0.9)\n",
    "\n",
    "# normalize spks\n",
    "spks, spks_rep_all = data.normalize_spks(spks, spks_rep_all, itrain)\n",
    "\n",
    "ineur = np.arange(0, n_max_neurons) #np.arange(0, n_neurons, 5)\n",
    "\n",
    "spks_val = torch.from_numpy(spks[ival][:,ineur]) \n",
    "spks_rep_all = [spks_rep_all[i][:,ineur] for i in range(len(spks_rep_all))]\n",
    "\n",
    "img_val = torch.from_numpy(img[istim_train][ival]).to(device).unsqueeze(1)\n",
    "img_test = torch.from_numpy(img[istim_test]).to(device).unsqueeze(1)\n",
    "\n",
    "input_Ly, input_Lx = img_test.shape[-2:]"
   ]
  },
  {
   "cell_type": "code",
   "execution_count": null,
   "metadata": {},
   "outputs": [],
   "source": [
    "ntest_trails = 0\n",
    "for i in range(len(spks_rep_all)):\n",
    "    ntest_trails += spks_rep_all[i].shape[0]\n",
    "print('ntest_trails: ', ntest_trails)\n",
    "print('total_trails: ', spks.shape[0]+ntest_trails)"
   ]
  },
  {
   "attachments": {},
   "cell_type": "markdown",
   "metadata": {},
   "source": [
    "# n layers result"
   ]
  },
  {
   "cell_type": "code",
   "execution_count": null,
   "metadata": {},
   "outputs": [],
   "source": [
    "seed = 1\n",
    "nlayers = 2\n",
    "feve_nlayers = []\n",
    "for nlayers in range(1, 5):\n",
    "    nconv1 = 192\n",
    "    nconv2 = 192\n",
    "    model, in_channels = model_builder.build_model(NN=len(ineur), n_layers=nlayers, n_conv=nconv1, n_conv_mid=nconv2)\n",
    "    model_name = model_builder.create_model_name(data.mouse_names[mouse_id], data.exp_date[mouse_id], n_layers=nlayers, in_channels=in_channels, seed=seed)\n",
    "\n",
    "    weight_path = os.path.join(weight_path, 'fullmodel', data.mouse_names[mouse_id])\n",
    "    if not os.path.exists(weight_path):\n",
    "        os.makedirs(weight_path)\n",
    "    model_path = os.path.join(weight_path, model_name)\n",
    "    print('model path: ', model_path)\n",
    "    model = model.to(device)\n",
    "    model.load_state_dict(torch.load(model_path))\n",
    "    print('loaded model', model_path)\n",
    "\n",
    "    # test model\n",
    "    test_pred = model_trainer.test_epoch(model, img_test)\n",
    "    test_fev, test_feve = metrics.feve(spks_rep_all, test_pred)\n",
    "    print('FEVE (test, all): ', np.mean(test_feve))\n",
    "\n",
    "    threshold = 0.15\n",
    "    print(f'filtering neurons with FEV > {threshold}')\n",
    "    valid_idxes = np.where(test_fev > threshold)[0]\n",
    "    print(f'valid neurons: {len(valid_idxes)} / {len(test_fev)}')\n",
    "    print(f'FEVE (test, FEV>0.15): {np.mean(test_feve[test_fev > threshold])}')\n",
    "\n",
    "    feve_nlayers.append(test_feve)\n",
    "\n",
    "feve_nlayers = np.stack(feve_nlayers)\n",
    "print(feve_nlayers.shape)"
   ]
  },
  {
   "cell_type": "code",
   "execution_count": null,
   "metadata": {},
   "outputs": [],
   "source": [
    "data_dict['feve_depth'] = feve_nlayers\n",
    "data_dict['valid_idxes'] = valid_idxes\n",
    "data_dict['fev'] = test_fev"
   ]
  },
  {
   "attachments": {},
   "cell_type": "markdown",
   "metadata": {},
   "source": [
    "# change #conv1 #conv2 result"
   ]
  },
  {
   "cell_type": "code",
   "execution_count": null,
   "metadata": {},
   "outputs": [],
   "source": [
    "# build model\n",
    "nlayers = 2\n",
    "nconv1 = 192\n",
    "nconv2 = 192\n",
    "nconv1_list = [8,16,32,64, 128, 192, 256, 320, 384, 448]\n",
    "nconv2_list = [8,16,32,64, 128, 192, 256, 320, 384, 448]\n",
    "seed = 1\n",
    "n_valid_neurons = len(valid_idxes)\n",
    "feve_width = np.zeros((len(nconv1_list), len(nconv2_list), n_valid_neurons))\n",
    "data\n",
    "for i, nconv1 in enumerate(nconv1_list):\n",
    "    for j, nconv2 in enumerate(nconv2_list):\n",
    "        model, in_channels = model_builder.build_model(NN=len(ineur), n_layers=nlayers, n_conv=nconv1, n_conv_mid=nconv2)\n",
    "        model_name = model_builder.create_model_name(data.mouse_names[mouse_id], data.exp_date[mouse_id], n_layers=nlayers, in_channels=in_channels, seed=seed)\n",
    "\n",
    "        weight_path = os.path.join(weight_path, 'fullmodel', data.mouse_names[mouse_id])\n",
    "        if not os.path.exists(weight_path):\n",
    "            os.makedirs(weight_path)\n",
    "        model_path = os.path.join(weight_path, model_name)\n",
    "        print('model path: ', model_path)\n",
    "        model = model.to(device)\n",
    "        model.load_state_dict(torch.load(model_path))\n",
    "        print('loaded model', model_path)\n",
    "\n",
    "        # test model\n",
    "        test_pred = model_trainer.test_epoch(model, img_test)\n",
    "        test_fev, test_feve = metrics.feve(spks_rep_all, test_pred)\n",
    "        print('FEVE (test, all): ', np.mean(test_feve))\n",
    "\n",
    "        threshold = 0.15\n",
    "        print(f'filtering neurons with FEV > {threshold}')\n",
    "        valid_idxes = np.where(test_fev > threshold)[0]\n",
    "        print(f'valid neurons: {len(valid_idxes)} / {len(test_fev)}')\n",
    "        print(f'FEVE (test, FEV>0.15): {np.mean(test_feve[test_fev > threshold])}')\n",
    "        feve_width[i,j] = np.mean(test_feve[test_fev > threshold])"
   ]
  },
  {
   "cell_type": "code",
   "execution_count": null,
   "metadata": {},
   "outputs": [],
   "source": [
    "data_dict['feve_width'] = feve_width"
   ]
  },
  {
   "attachments": {},
   "cell_type": "markdown",
   "metadata": {},
   "source": [
    "# change #stims train"
   ]
  },
  {
   "cell_type": "code",
   "execution_count": null,
   "metadata": {},
   "outputs": [],
   "source": [
    "stim_numbers = np.geomspace(500, 30000, num=10, dtype=int)\n",
    "stim_numbers = np.unique(stim_numbers)  # Remove duplicates that might occur due to rounding\n",
    "print(stim_numbers)"
   ]
  },
  {
   "cell_type": "code",
   "execution_count": null,
   "metadata": {},
   "outputs": [],
   "source": [
    "# build model\n",
    "seed = 1\n",
    "nlayers = 2\n",
    "nconv1 = 16\n",
    "nconv2 = 320\n",
    "n_max_neurons = len(valid_idxes)\n",
    "feve_nstims = np.zeros((len(stim_numbers), n_max_neurons))\n",
    "\n",
    "for i, n_stim in enumerate(stim_numbers):\n",
    "    if n_stim  > len(itrain): n_stim = len(itrain)\n",
    "    \n",
    "    suffix = f'nstims_{n_stim}'\n",
    "    model, in_channels = model_builder.build_model(NN=len(ineur), n_layers=nlayers, n_conv=nconv1, n_conv_mid=nconv2)\n",
    "    model_name = model_builder.create_model_name(data.mouse_names[mouse_id], data.exp_date[mouse_id], n_layers=nlayers, in_channels=in_channels, seed=seed, suffix=suffix)\n",
    "\n",
    "    weight_path = os.path.join(weight_path, 'fullmodel', data.mouse_names[mouse_id])\n",
    "    if not os.path.exists(weight_path):\n",
    "        os.makedirs(weight_path)\n",
    "    model_path = os.path.join(weight_path, model_name)\n",
    "    print('model path: ', model_path)\n",
    "    model = model.to(device)\n",
    "    model.load_state_dict(torch.load(model_path))\n",
    "    print('loaded model', model_path)\n",
    "\n",
    "    # test model\n",
    "    test_pred = model_trainer.test_epoch(model, img_test)\n",
    "    test_fev, test_feve = metrics.feve(spks_rep_all, test_pred)\n",
    "    print('FEVE (test): ', np.mean(test_feve[valid_idxes]))\n",
    "\n",
    "    feve_nstims[i] = np.mean(test_feve[valid_idxes])"
   ]
  },
  {
   "cell_type": "code",
   "execution_count": null,
   "metadata": {},
   "outputs": [],
   "source": [
    "data_dict['feve_nstims'] = feve_nstims\n",
    "data_dict['nstims'] = stim_numbers"
   ]
  },
  {
   "attachments": {},
   "cell_type": "markdown",
   "metadata": {},
   "source": [
    "# change #neurons"
   ]
  },
  {
   "cell_type": "code",
   "execution_count": null,
   "metadata": {},
   "outputs": [],
   "source": [
    "neuron_numbers = np.geomspace(1, 1000, num=10, dtype=int)\n",
    "neuron_numbers = np.unique(np.concatenate(([1], neuron_numbers)))  # Ensure 1 is included and remove duplicates\n",
    "seed_numbers = np.linspace(10, 1, num=len(neuron_numbers), dtype=int)\n",
    "print(neuron_numbers)\n",
    "print(seed_numbers)"
   ]
  },
  {
   "cell_type": "code",
   "execution_count": null,
   "metadata": {},
   "outputs": [],
   "source": [
    "# build model\n",
    "seed = 1\n",
    "nlayers = 2\n",
    "nconv1 = 16\n",
    "nconv2 = 320\n",
    "\n",
    "feve_nneurons = []\n",
    "\n",
    "for i, n_neuron in enumerate(neuron_numbers):\n",
    "    feve_nneurons.append([])\n",
    "    for seed in range(1, seed_numbers[i]+1):\n",
    "        np.random.seed(n_neuron*seed)\n",
    "        if n_neuron < len(valid_idxes):\n",
    "            ineur = np.random.choice(valid_idxes, size=n_neuron, replace=False)\n",
    "        else:\n",
    "            ineur = valid_idxes\n",
    "            n_neuron = len(valid_idxes)\n",
    "            \n",
    "        suffix = f'nneurons_{n_neuron}'\n",
    "        spks_train = torch.from_numpy(spks[itrain][:,ineur])\n",
    "        spks_val = torch.from_numpy(spks[ival][:,ineur]) \n",
    "        spks_rep = [spks_rep_all[i][:,ineur] for i in range(len(spks_rep_all))]\n",
    "\n",
    "        \n",
    "        model, in_channels = model_builder.build_model(NN=len(ineur), n_layers=nlayers, n_conv=nconv1, n_conv_mid=nconv2)\n",
    "        model_name = model_builder.create_model_name(data.mouse_names[mouse_id], data.exp_date[mouse_id], n_layers=nlayers, in_channels=in_channels, seed=seed, suffix=suffix)\n",
    "\n",
    "        weight_path = os.path.join(weight_path, 'fullmodel', data.mouse_names[mouse_id])\n",
    "        if not os.path.exists(weight_path):\n",
    "            os.makedirs(weight_path)\n",
    "        model_path = os.path.join(weight_path, model_name)\n",
    "        print('model path: ', model_path)\n",
    "        model = model.to(device)\n",
    "        model.load_state_dict(torch.load(model_path))\n",
    "        print('loaded model', model_path)\n",
    "\n",
    "        # test model\n",
    "        test_pred = model_trainer.test_epoch(model, img_test)\n",
    "        test_fev, test_feve = metrics.feve(spks_rep, test_pred)\n",
    "        print('FEVE (test): ', np.mean(test_feve))\n",
    "\n",
    "        feve_nneurons[i].append(np.mean(test_feve))"
   ]
  },
  {
   "cell_type": "code",
   "execution_count": null,
   "metadata": {},
   "outputs": [],
   "source": [
    "feve_nneurons = [np.mean(x) for x in feve_nneurons]"
   ]
  },
  {
   "cell_type": "code",
   "execution_count": null,
   "metadata": {},
   "outputs": [],
   "source": [
    "data_dict['feve_nneurons'] = feve_nneurons\n",
    "data_dict['nneurons'] = neuron_numbers"
   ]
  },
  {
   "attachments": {},
   "cell_type": "markdown",
   "metadata": {},
   "source": [
    "# visualize conv1"
   ]
  },
  {
   "cell_type": "code",
   "execution_count": null,
   "metadata": {},
   "outputs": [],
   "source": [
    "nlayers = 2\n",
    "nconv1 = 16\n",
    "nconv2 = 320\n",
    "n_stim, n_max_neurons = spks.shape\n",
    "ineur = np.arange(0, n_max_neurons) #np.arange(0, n_neurons, 5)\n",
    "model, in_channels = model_builder.build_model(NN=len(ineur), n_layers=nlayers, n_conv=nconv1, n_conv_mid=nconv2)\n",
    "model_name = model_builder.create_model_name(data.mouse_names[mouse_id], data.exp_date[mouse_id], n_layers=nlayers, in_channels=in_channels, seed=seed, suffix=suffix)\n",
    "\n",
    "weight_path = os.path.join(weight_path, 'fullmodel', data.mouse_names[mouse_id])\n",
    "if not os.path.exists(weight_path):\n",
    "    os.makedirs(weight_path)\n",
    "model_path = os.path.join(weight_path, model_name)\n",
    "print('model path: ', model_path)\n",
    "model = model.to(device)\n",
    "model.load_state_dict(torch.load(model_path))\n",
    "print('loaded model', model_path)\n",
    "\n",
    "# test model\n",
    "test_pred = model_trainer.test_epoch(model, img_test)\n",
    "test_fev, test_feve = metrics.feve(spks_rep_all, test_pred)\n",
    "print('FEVE (test, all): ', np.mean(test_feve))\n",
    "\n",
    "threshold = 0.15\n",
    "print(f'filtering neurons with FEV > {threshold}')\n",
    "valid_idxes = np.where(test_fev > threshold)[0]\n",
    "print(f'valid neurons: {len(valid_idxes)} / {len(test_fev)}')\n",
    "print(f'FEVE (test, FEV>0.15): {np.mean(test_feve[test_fev > threshold])}')\n",
    "\n",
    "data_dict['fullmodel_Wx'] = model.readout.Wx.cpu().detach().numpy().squeeze()\n",
    "data_dict['fullmodel_Wy'] = model.readout.Wy.cpu().detach().numpy().squeeze()\n",
    "data_dict['fullmodel_feve_all'] = test_feve"
   ]
  },
  {
   "attachments": {},
   "cell_type": "markdown",
   "metadata": {},
   "source": [
    "# LN model result"
   ]
  },
  {
   "cell_type": "code",
   "execution_count": null,
   "metadata": {},
   "outputs": [],
   "source": [
    "nlayers = 2\n",
    "nconv1 = 16\n",
    "nconv2 = 320\n",
    "seed = 1\n",
    "suffix = ''\n",
    "suffix += 'LN'\n",
    "n_stim, n_max_neurons = spks.shape\n",
    "ineur = np.arange(0, n_max_neurons) \n",
    "model, in_channels = model_builder.build_model(NN=len(ineur), n_layers=nlayers, n_conv=nconv1, n_conv_mid=nconv2, activation=None, avgpool=True)\n",
    "model_name = model_builder.create_model_name(data.mouse_names[mouse_id], data.exp_date[mouse_id], n_layers=nlayers, in_channels=in_channels, seed=seed, suffix=suffix)\n",
    "\n",
    "weight_path = os.path.join(weight_path, 'LNmodel', data.mouse_names[mouse_id])\n",
    "if not os.path.exists(weight_path):\n",
    "    os.makedirs(weight_path)\n",
    "model_path = os.path.join(weight_path, model_name)\n",
    "print('model path: ', model_path)\n",
    "model = model.to(device)\n",
    "model.load_state_dict(torch.load(model_path))\n",
    "print('loaded model', model_path)\n",
    "\n",
    "# test model\n",
    "test_pred = model_trainer.test_epoch(model, img_test)\n",
    "test_fev, test_feve = metrics.feve(spks_rep_all, test_pred)\n",
    "print('FEVE (test, all): ', np.mean(test_feve))\n",
    "\n",
    "threshold = 0.15\n",
    "print(f'filtering neurons with FEV > {threshold}')\n",
    "valid_idxes = np.where(test_fev > threshold)[0]\n",
    "print(f'valid neurons: {len(valid_idxes)} / {len(test_fev)}')\n",
    "print(f'FEVE (test, FEV>0.15): {np.mean(test_feve[test_fev > threshold])}')\n",
    "\n",
    "data_dict['LNmodel_feve_all'] = test_feve\n"
   ]
  },
  {
   "attachments": {},
   "cell_type": "markdown",
   "metadata": {},
   "source": [
    "# save"
   ]
  },
  {
   "cell_type": "code",
   "execution_count": null,
   "metadata": {},
   "outputs": [],
   "source": [
    "np.savez(f'outputs/fullmodel_{data.mouse_names[mouse_id]}_results.npz', **data_dict)"
   ]
  }
 ],
 "metadata": {
  "kernelspec": {
   "display_name": "torchenv",
   "language": "python",
   "name": "python3"
  },
  "language_info": {
   "codemirror_mode": {
    "name": "ipython",
    "version": 3
   },
   "file_extension": ".py",
   "mimetype": "text/x-python",
   "name": "python",
   "nbconvert_exporter": "python",
   "pygments_lexer": "ipython3",
   "version": "3.9.16"
  },
  "orig_nbformat": 4
 },
 "nbformat": 4,
 "nbformat_minor": 2
}
