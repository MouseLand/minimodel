{
 "cells": [
  {
   "cell_type": "code",
   "execution_count": null,
   "metadata": {},
   "outputs": [],
   "source": [
    "%load_ext autoreload\n",
    "%autoreload 2"
   ]
  },
  {
   "cell_type": "code",
   "execution_count": null,
   "metadata": {},
   "outputs": [],
   "source": [
    "import os\n",
    "import torch\n",
    "import numpy as np\n",
    "from minimodel import data, metrics, model_builder, model_trainer\n",
    "\n",
    "device = torch.device('cuda')\n",
    "\n",
    "data_dict = {}\n",
    "\n",
    "data_path = '../../data'\n",
    "weight_path = '../checkpoints/fullmodel'"
   ]
  },
  {
   "cell_type": "code",
   "execution_count": null,
   "metadata": {},
   "outputs": [],
   "source": [
    "mouse_id = 5\n",
    "seed = 1\n",
    "nlayers = 2"
   ]
  },
  {
   "cell_type": "code",
   "execution_count": null,
   "metadata": {},
   "outputs": [],
   "source": [
    "# load images\n",
    "img = data.load_images(data_path, mouse_id, file=os.path.join(data_path, data.img_file_name[mouse_id]))\n",
    "nimg, Ly, Lx = img.shape\n",
    "print('img: ', img.shape, img.min(), img.max(), img.dtype)\n",
    "\n",
    "# load neurons\n",
    "fname = '%s_nat60k_%s.npz'%(data.db[mouse_id]['mname'], data.db[mouse_id]['datexp'])\n",
    "spks, istim_train, istim_test, xpos, ypos, spks_rep_all = data.load_neurons(file_path = os.path.join(data_path, fname), mouse_id = mouse_id)\n",
    "n_stim, n_max_neurons = spks.shape\n",
    "print('spks: ', spks.shape, spks.min(), spks.max())\n",
    "print('spks_rep_all: ', len(spks_rep_all), spks_rep_all[0].shape)\n",
    "print('istim_train: ', istim_train.shape, istim_train.min(), istim_train.max())\n",
    "print('istim_test: ', istim_test.shape, istim_test.min(), istim_test.max())\n",
    "\n",
    "# split train and validation set\n",
    "itrain, ival = data.split_train_val(istim_train, train_frac=0.9)\n",
    "print('itrain: ', itrain.shape, itrain.min(), itrain.max())\n",
    "print('ival: ', ival.shape, ival.min(), ival.max())\n",
    "\n",
    "# normalize spks\n",
    "spks, spks_rep_all = data.normalize_spks(spks, spks_rep_all, itrain)\n",
    "\n",
    "img_val = torch.from_numpy(img[istim_train][ival]).to(device).unsqueeze(1)\n",
    "img_test = torch.from_numpy(img[istim_test]).to(device).unsqueeze(1)\n",
    "img_train = torch.from_numpy(img[istim_train][itrain]).to(device).unsqueeze(1) # change :130 to 25:100 \n",
    "\n",
    "print('img_train: ', img_train.shape, img_train.min(), img_train.max())\n",
    "print('img_val: ', img_val.shape, img_val.min(), img_val.max())\n",
    "print('img_test: ', img_test.shape, img_test.min(), img_test.max())\n",
    "\n",
    "input_Ly, input_Lx = img_train.shape[-2:]\n",
    "\n",
    "ineur = np.arange(spks.shape[-1])\n",
    "spks_train = torch.from_numpy(spks[itrain][:,ineur])\n",
    "spks_val = torch.from_numpy(spks[ival][:,ineur]) \n",
    "spks_rep = [spks_rep_all[i][:,ineur] for i in range(len(spks_rep_all))]"
   ]
  },
  {
   "attachments": {},
   "cell_type": "markdown",
   "metadata": {},
   "source": [
    "# load fullmodel"
   ]
  },
  {
   "cell_type": "code",
   "execution_count": null,
   "metadata": {},
   "outputs": [],
   "source": [
    "nconv1 = 16\n",
    "nconv2 = 320\n",
    "model, in_channels = model_builder.build_model(NN=data.NNs[mouse_id], n_layers=nlayers, n_conv=nconv1, n_conv_mid=nconv2)\n",
    "model_name = model_builder.create_model_name(data.mouse_names[mouse_id], data.exp_date[mouse_id], n_layers=nlayers, in_channels=in_channels)\n",
    "weight_path = os.path.join(weight_path, 'fullmodel', data.mouse_names[mouse_id])\n",
    "model_path = os.path.join(weight_path, model_name)\n",
    "\n",
    "model.load_state_dict(torch.load(model_path))\n",
    "print('loaded model', model_path)\n",
    "model = model.to(device)\n",
    "\n",
    "# test model\n",
    "test_pred = model_trainer.test_epoch(model, img_test)\n",
    "test_fev, test_feve = metrics.feve(spks_rep_all, test_pred)\n",
    "print('FEVE (test): ', np.mean(test_feve[test_fev>0.15]))\n",
    "\n",
    "valid_idxes = np.where(test_fev > 0.15)[0]"
   ]
  },
  {
   "attachments": {},
   "cell_type": "markdown",
   "metadata": {},
   "source": [
    "# load all minimodels"
   ]
  },
  {
   "cell_type": "code",
   "execution_count": null,
   "metadata": {},
   "outputs": [],
   "source": [
    "# calculate FEV\n",
    "nconv1 = 16\n",
    "nconv2 = 64\n",
    "\n",
    "n_max_neurons = data.NNs_valid[mouse_id]\n",
    "ineurons = valid_idxes\n",
    "\n",
    "feve_all = np.zeros(len(ineurons))\n",
    "fev_all = np.zeros(len(ineurons))\n",
    "wc_all = np.zeros((len(ineurons), nconv2))\n",
    "wx_all = []\n",
    "wy_all = []\n",
    "test_pred_all = np.zeros((len(ineurons), len(istim_test)))\n",
    "\n",
    "for j in np.arange(len(valid_idxes)):\n",
    "    ineuron = ineurons[j]\n",
    "\n",
    "    ineur = [ineuron]\n",
    "    spks_train = torch.from_numpy(spks[itrain][:,ineur])\n",
    "    spks_val = torch.from_numpy(spks[ival][:,ineur]) \n",
    "    spks_rep = [spks_rep_all[i][:,ineur] for i in range(len(spks_rep_all))]\n",
    "\n",
    "    print('spks_train: ', spks_train.shape, spks_train.min(), spks_train.max())\n",
    "    print('spks_val: ', spks_val.shape, spks_val.min(), spks_val.max())\n",
    "\n",
    "    # build model\n",
    "    wc_coef = 0.2\n",
    "    hs_readout = 0.03\n",
    "\n",
    "    model, in_channels = model_builder.build_model(NN=1, n_layers=nlayers, n_conv=nconv1, n_conv_mid=nconv2, Wc_coef=wc_coef)\n",
    "    model_name = model_builder.create_model_name(data.mouse_names[mouse_id], data.exp_date[mouse_id], ineuron=ineur[0], n_layers=nlayers, in_channels=in_channels, seed=seed,hs_readout=hs_readout)\n",
    "\n",
    "    weight_path = os.path.join(weight_path, 'minimodel', data.mouse_names[mouse_id])\n",
    "    model_path = os.path.join(weight_path, model_name)\n",
    "    print('model path: ', model_path)\n",
    "    model.load_state_dict(torch.load(model_path))\n",
    "    print('loaded model', model_path)\n",
    "    model = model.to(device)\n",
    "\n",
    "    # test model\n",
    "    test_pred = model_trainer.test_epoch(model, img_test)\n",
    "    test_pred_all[j] = test_pred.squeeze()\n",
    "\n",
    "    test_fev, test_feve = metrics.feve(spks_rep, test_pred)\n",
    "    print('FEVE (test): ', test_feve)\n",
    "\n",
    "    feve_all[j] = test_feve\n",
    "    fev_all[j] = test_fev\n",
    "    wc_all[j] = model.readout.Wc.detach().cpu().numpy().squeeze()\n",
    "    wx_all.append(model.readout.Wx.detach().cpu().numpy().squeeze())\n",
    "    wy_all.append(model.readout.Wy.detach().cpu().numpy().squeeze())"
   ]
  },
  {
   "cell_type": "code",
   "execution_count": null,
   "metadata": {},
   "outputs": [],
   "source": [
    "data_dict['feve_all'] = feve_all\n",
    "data_dict['fev_all'] = fev_all\n",
    "data_dict['wc_all'] = wc_all\n",
    "data_dict['wx_all'] = np.stack(wx_all)\n",
    "data_dict['wy_all'] = np.stack(wy_all)\n",
    "data_dict['test_pred_all'] = test_pred_all\n",
    "\n",
    "print(np.mean(feve_all))\n",
    "print(np.stack(wx_all).shape)"
   ]
  },
  {
   "attachments": {},
   "cell_type": "markdown",
   "metadata": {},
   "source": [
    "# save"
   ]
  },
  {
   "cell_type": "code",
   "execution_count": null,
   "metadata": {},
   "outputs": [],
   "source": [
    "np.savez(f\"outputs/minimodel_{data.mouse_names[mouse_id]}_result.npz\", **data_dict)\n",
    "print(f'saved minimodel result to minimodel_{data.mouse_names[mouse_id]}_result.npz')"
   ]
  }
 ],
 "metadata": {
  "kernelspec": {
   "display_name": "torchenv",
   "language": "python",
   "name": "python3"
  },
  "language_info": {
   "codemirror_mode": {
    "name": "ipython",
    "version": 3
   },
   "file_extension": ".py",
   "mimetype": "text/x-python",
   "name": "python",
   "nbconvert_exporter": "python",
   "pygments_lexer": "ipython3",
   "version": "3.9.16"
  },
  "orig_nbformat": 4
 },
 "nbformat": 4,
 "nbformat_minor": 2
}
