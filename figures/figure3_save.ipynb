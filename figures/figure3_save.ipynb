{
 "cells": [
  {
   "cell_type": "markdown",
   "metadata": {},
   "source": [
    "# Preparing Data for Figure 3\n",
    "\n",
    "This notebook saves the processed data needed to plot **Figure 3** into a `.npz` file and then generates the corresponding plots.\n",
    "\n",
    "**Important:**  \n",
    "Before running this notebook, please make sure to execute the following notebooks in the `./save_results/` directory. \n",
    "- [fullmodel_mouse_saveall.ipynb](https://github.com/MouseLand/minimodel/blob/main/figures/save_results/fullmodel_mouse_saveall.ipynb)\n",
    "- [fullmodel_monkey_saveall.ipynb](https://github.com/MouseLand/minimodel/blob/main/figures/save_results/fullmodel_monkey_saveall.ipynb)\n",
    "- [minimodel_mouse_saveall.ipynb](https://github.com/MouseLand/minimodel/blob/main/figures/save_results/minimodel_mouse_saveall.ipynb)\n",
    "- [minimodel_monkey_saveall.ipynb](https://github.com/MouseLand/minimodel/blob/main/figures/save_results/minimodel_monkey_saveall.ipynb)\n",
    "\n",
    "These notebooks:\n",
    "- Load the raw neural and stimulus data,\n",
    "- Run models for each animal (mouse and monkey),\n",
    "- Save the model outputs needed for plotting.\n",
    "\n",
    "Each notebook in `./save_results/outputs/` corresponds to a specific condition or model variant. Skipping any of them may result in missing or incomplete data when running this notebook.\n"
   ]
  },
  {
   "cell_type": "code",
   "execution_count": null,
   "metadata": {},
   "outputs": [],
   "source": [
    "import os\n",
    "import torch\n",
    "import numpy as np\n",
    "import matplotlib.pyplot as plt\n",
    "from minimodel import data\n",
    "\n",
    "device = torch.device('cuda')\n",
    "\n",
    "data_dict = {}\n",
    "\n",
    "data_path = '../data'\n",
    "weight_path = './checkpoints/fullmodel'\n",
    "result_path = './save_results/outputs'"
   ]
  },
  {
   "attachments": {},
   "cell_type": "markdown",
   "metadata": {},
   "source": [
    "# figure 3a (FEVE change with nimages)"
   ]
  },
  {
   "attachments": {},
   "cell_type": "markdown",
   "metadata": {},
   "source": [
    "## 1. mouse"
   ]
  },
  {
   "cell_type": "code",
   "execution_count": null,
   "metadata": {},
   "outputs": [],
   "source": [
    "nmouse = 6\n",
    "all_feve = []\n",
    "for mouse_id in range(6):\n",
    "    dat = np.load(os.path.join(result_path, f'fullmodel_{data.mouse_names[mouse_id]}_results.npz'), allow_pickle=True)\n",
    "    all_feve.append(dat['feve_nstims'].mean(1))\n",
    "\n",
    "data_dict['feve_all_nstim'] = np.vstack(all_feve)\n",
    "data_dict['nstim'] = dat['nstims']"
   ]
  },
  {
   "attachments": {},
   "cell_type": "markdown",
   "metadata": {},
   "source": [
    "## 2. monkey"
   ]
  },
  {
   "cell_type": "code",
   "execution_count": null,
   "metadata": {},
   "outputs": [],
   "source": [
    "dat = np.load(os.path.join(result_path, f'fullmodel_monkey_results.npz'), allow_pickle=True)\n",
    "data_dict['monkey_feve_all_nstim'] = dat['feve_nstims']\n",
    "data_dict['monkey_nstim'] = dat['nstims']\n",
    "data_dict['monkey_id'] = dat['monkey_ids']"
   ]
  },
  {
   "attachments": {},
   "cell_type": "markdown",
   "metadata": {},
   "source": [
    "# figure 3b (vary nn performance)"
   ]
  },
  {
   "attachments": {},
   "cell_type": "markdown",
   "metadata": {},
   "source": [
    "## 1. mouse"
   ]
  },
  {
   "cell_type": "code",
   "execution_count": null,
   "metadata": {},
   "outputs": [],
   "source": [
    "nmouse = 6\n",
    "all_feve = []\n",
    "for mouse_id in range(6):\n",
    "    dat = np.load(os.path.join(result_path, f'fullmodel_{data.mouse_names[mouse_id]}_results.npz'), allow_pickle=True)\n",
    "    all_feve.append(dat['feve_nneurons'])\n",
    "\n",
    "data_dict['NNs'] = dat['nneurons']\n",
    "data_dict['feve_all_nn'] = all_feve"
   ]
  },
  {
   "attachments": {},
   "cell_type": "markdown",
   "metadata": {},
   "source": [
    "## 2. monkey"
   ]
  },
  {
   "cell_type": "code",
   "execution_count": null,
   "metadata": {},
   "outputs": [],
   "source": [
    "dat = np.load(os.path.join(result_path, f'fullmodel_monkey_results.npz'), allow_pickle=True)\n",
    "neuron_numbers = dat['nneurons']\n",
    "feve_nneurons = dat['feve_nneurons']\n",
    "monkey_ids = dat['nneuron_monkey_ids']\n",
    "\n",
    "feves = []\n",
    "for i, nn in enumerate(neuron_numbers):\n",
    "    feve_allseed = np.array(feve_nneurons[i])\n",
    "    nseed = len(feve_allseed)\n",
    "    feve_tmp = []\n",
    "    for iseed in range(nseed):\n",
    "        feve = feve_allseed[iseed]\n",
    "        feve_tmp.append(feve)\n",
    "    feve_tmp = np.hstack(feve_tmp)\n",
    "    feves.append(feve_tmp)\n",
    "data_dict['monkey_NNs'] = dat['nneurons']\n",
    "data_dict['monkey_feve_all_nn'] = feves"
   ]
  },
  {
   "attachments": {},
   "cell_type": "markdown",
   "metadata": {},
   "source": [
    "# figure 3d-f\n"
   ]
  },
  {
   "cell_type": "code",
   "execution_count": null,
   "metadata": {},
   "outputs": [],
   "source": [
    "nmouse = 6\n",
    "fev_all = []\n",
    "fullmodel_feve_all = []\n",
    "for mouse_id in range(6):\n",
    "    dat = np.load(os.path.join(result_path, f'fullmodel_{data.mouse_names[mouse_id]}_results.npz'), allow_pickle=True)\n",
    "    fev_all.append(dat['fev'])\n",
    "    fullmodel_feve_all.append(dat['fullmodel_feve_all'])\n",
    "data_dict['fev_all'] = fev_all\n",
    "data_dict['fullmodel_feve_all'] = fullmodel_feve_all"
   ]
  },
  {
   "cell_type": "code",
   "execution_count": null,
   "metadata": {},
   "outputs": [],
   "source": [
    "feve_all = []\n",
    "wc_all = []\n",
    "for mouse_id in range(6):\n",
    "    dat = np.load(os.path.join(result_path, f'minimodel_{data.mouse_names[mouse_id]}_result.npz'), allow_pickle=True)\n",
    "    feve_all.append(dat['feve_all'])\n",
    "    wc_all.append(dat['wc_all'])\n",
    "data_dict['minimodel_feve_all'] = feve_all\n",
    "data_dict['minimodel_wc_all'] = wc_all"
   ]
  },
  {
   "attachments": {},
   "cell_type": "markdown",
   "metadata": {},
   "source": [
    "# Monkey"
   ]
  },
  {
   "cell_type": "code",
   "execution_count": null,
   "metadata": {},
   "outputs": [],
   "source": [
    "dat = np.load(os.path.join(result_path, f'minimodel_monkey_result.npz'), allow_pickle=True)\n",
    "data_dict['monkey_wc_all'] = dat['wc_all']\n",
    "data_dict['monkey_minimodel_feve_all'] = dat['feve_all']"
   ]
  },
  {
   "cell_type": "code",
   "execution_count": null,
   "metadata": {},
   "outputs": [],
   "source": [
    "dat = np.load(os.path.join(result_path, f'fullmodel_monkey_results.npz'), allow_pickle=True)\n",
    "data_dict['monkey_feve_all'] = dat['fullmodel_feve_all']\n",
    "data_dict['monkey_id'] = dat['monkey_ids']\n",
    "data_dict['monkey_fev_all'] = dat['fev_all']"
   ]
  },
  {
   "attachments": {},
   "cell_type": "markdown",
   "metadata": {},
   "source": [
    "# save"
   ]
  },
  {
   "cell_type": "code",
   "execution_count": null,
   "metadata": {},
   "outputs": [],
   "source": [
    "# save data_dict\n",
    "np.savez(f'figure3_results.npz', **data_dict)"
   ]
  },
  {
   "attachments": {},
   "cell_type": "markdown",
   "metadata": {},
   "source": [
    "# plot"
   ]
  },
  {
   "cell_type": "code",
   "execution_count": null,
   "metadata": {},
   "outputs": [],
   "source": [
    "import figure3\n",
    "dat = np.load('figure3_results.npz', allow_pickle=True)\n",
    "save_path = './outputs'\n",
    "figure3.figure3(dat, save_path)"
   ]
  }
 ],
 "metadata": {
  "kernelspec": {
   "display_name": "torchenv",
   "language": "python",
   "name": "python3"
  },
  "language_info": {
   "codemirror_mode": {
    "name": "ipython",
    "version": 3
   },
   "file_extension": ".py",
   "mimetype": "text/x-python",
   "name": "python",
   "nbconvert_exporter": "python",
   "pygments_lexer": "ipython3",
   "version": "3.9.16"
  },
  "orig_nbformat": 4
 },
 "nbformat": 4,
 "nbformat_minor": 2
}
